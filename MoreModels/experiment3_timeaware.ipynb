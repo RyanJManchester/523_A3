{
  "cells": [
    {
      "cell_type": "markdown",
      "id": "de61c822",
      "metadata": {
        "id": "de61c822"
      },
      "source": [
        "# Experiment 3: Time-Aware Baseline Model\n",
        "Using only hour of day and station ID."
      ]
    },
    {
      "cell_type": "code",
      "source": [
        "!pip install capymoa"
      ],
      "metadata": {
        "colab": {
          "base_uri": "https://localhost:8080/"
        },
        "id": "X-C9Na5HMVBW",
        "outputId": "9891cb9c-1a4e-4282-f09b-e5ded7d7ac31"
      },
      "id": "X-C9Na5HMVBW",
      "execution_count": 2,
      "outputs": [
        {
          "output_type": "stream",
          "name": "stdout",
          "text": [
            "Collecting capymoa\n",
            "  Downloading capymoa-0.10.0-py3-none-any.whl.metadata (5.0 kB)\n",
            "Requirement already satisfied: click in /usr/local/lib/python3.11/dist-packages (from capymoa) (8.2.1)\n",
            "Collecting deprecated (from capymoa)\n",
            "  Downloading Deprecated-1.2.18-py2.py3-none-any.whl.metadata (5.7 kB)\n",
            "Collecting jpype1>=v1.5.1 (from capymoa)\n",
            "  Downloading jpype1-1.5.2-cp311-cp311-manylinux_2_17_x86_64.manylinux2014_x86_64.whl.metadata (4.9 kB)\n",
            "Requirement already satisfied: matplotlib in /usr/local/lib/python3.11/dist-packages (from capymoa) (3.10.0)\n",
            "Requirement already satisfied: numpy in /usr/local/lib/python3.11/dist-packages (from capymoa) (2.0.2)\n",
            "Requirement already satisfied: pandas in /usr/local/lib/python3.11/dist-packages (from capymoa) (2.2.2)\n",
            "Requirement already satisfied: pyarrow in /usr/local/lib/python3.11/dist-packages (from capymoa) (18.1.0)\n",
            "Requirement already satisfied: scikit-learn in /usr/local/lib/python3.11/dist-packages (from capymoa) (1.6.1)\n",
            "Requirement already satisfied: seaborn in /usr/local/lib/python3.11/dist-packages (from capymoa) (0.13.2)\n",
            "Requirement already satisfied: tqdm in /usr/local/lib/python3.11/dist-packages (from capymoa) (4.67.1)\n",
            "Collecting wget (from capymoa)\n",
            "  Downloading wget-3.2.zip (10 kB)\n",
            "  Preparing metadata (setup.py) ... \u001b[?25l\u001b[?25hdone\n",
            "Requirement already satisfied: packaging in /usr/local/lib/python3.11/dist-packages (from jpype1>=v1.5.1->capymoa) (24.2)\n",
            "Requirement already satisfied: wrapt<2,>=1.10 in /usr/local/lib/python3.11/dist-packages (from deprecated->capymoa) (1.17.2)\n",
            "Requirement already satisfied: contourpy>=1.0.1 in /usr/local/lib/python3.11/dist-packages (from matplotlib->capymoa) (1.3.2)\n",
            "Requirement already satisfied: cycler>=0.10 in /usr/local/lib/python3.11/dist-packages (from matplotlib->capymoa) (0.12.1)\n",
            "Requirement already satisfied: fonttools>=4.22.0 in /usr/local/lib/python3.11/dist-packages (from matplotlib->capymoa) (4.58.1)\n",
            "Requirement already satisfied: kiwisolver>=1.3.1 in /usr/local/lib/python3.11/dist-packages (from matplotlib->capymoa) (1.4.8)\n",
            "Requirement already satisfied: pillow>=8 in /usr/local/lib/python3.11/dist-packages (from matplotlib->capymoa) (11.2.1)\n",
            "Requirement already satisfied: pyparsing>=2.3.1 in /usr/local/lib/python3.11/dist-packages (from matplotlib->capymoa) (3.2.3)\n",
            "Requirement already satisfied: python-dateutil>=2.7 in /usr/local/lib/python3.11/dist-packages (from matplotlib->capymoa) (2.9.0.post0)\n",
            "Requirement already satisfied: pytz>=2020.1 in /usr/local/lib/python3.11/dist-packages (from pandas->capymoa) (2025.2)\n",
            "Requirement already satisfied: tzdata>=2022.7 in /usr/local/lib/python3.11/dist-packages (from pandas->capymoa) (2025.2)\n",
            "Requirement already satisfied: scipy>=1.6.0 in /usr/local/lib/python3.11/dist-packages (from scikit-learn->capymoa) (1.15.3)\n",
            "Requirement already satisfied: joblib>=1.2.0 in /usr/local/lib/python3.11/dist-packages (from scikit-learn->capymoa) (1.5.1)\n",
            "Requirement already satisfied: threadpoolctl>=3.1.0 in /usr/local/lib/python3.11/dist-packages (from scikit-learn->capymoa) (3.6.0)\n",
            "Requirement already satisfied: six>=1.5 in /usr/local/lib/python3.11/dist-packages (from python-dateutil>=2.7->matplotlib->capymoa) (1.17.0)\n",
            "Downloading capymoa-0.10.0-py3-none-any.whl (60.5 MB)\n",
            "\u001b[2K   \u001b[90m━━━━━━━━━━━━━━━━━━━━━━━━━━━━━━━━━━━━━━━━\u001b[0m \u001b[32m60.5/60.5 MB\u001b[0m \u001b[31m13.6 MB/s\u001b[0m eta \u001b[36m0:00:00\u001b[0m\n",
            "\u001b[?25hDownloading jpype1-1.5.2-cp311-cp311-manylinux_2_17_x86_64.manylinux2014_x86_64.whl (494 kB)\n",
            "\u001b[2K   \u001b[90m━━━━━━━━━━━━━━━━━━━━━━━━━━━━━━━━━━━━━━━━\u001b[0m \u001b[32m494.1/494.1 kB\u001b[0m \u001b[31m30.7 MB/s\u001b[0m eta \u001b[36m0:00:00\u001b[0m\n",
            "\u001b[?25hDownloading Deprecated-1.2.18-py2.py3-none-any.whl (10.0 kB)\n",
            "Building wheels for collected packages: wget\n",
            "  Building wheel for wget (setup.py) ... \u001b[?25l\u001b[?25hdone\n",
            "  Created wheel for wget: filename=wget-3.2-py3-none-any.whl size=9655 sha256=bb49c558e9a91aeaeb789c6b53d3ee421eda5795cffda58a4a12b7fdbe2185da\n",
            "  Stored in directory: /root/.cache/pip/wheels/40/b3/0f/a40dbd1c6861731779f62cc4babcb234387e11d697df70ee97\n",
            "Successfully built wget\n",
            "Installing collected packages: wget, jpype1, deprecated, capymoa\n",
            "Successfully installed capymoa-0.10.0 deprecated-1.2.18 jpype1-1.5.2 wget-3.2\n"
          ]
        }
      ]
    },
    {
      "cell_type": "code",
      "execution_count": 32,
      "id": "b8e17f91",
      "metadata": {
        "colab": {
          "base_uri": "https://localhost:8080/",
          "height": 349
        },
        "id": "b8e17f91",
        "outputId": "87404649-27cb-43a6-a98a-ba6f40712aba"
      },
      "outputs": [
        {
          "output_type": "error",
          "ename": "ImportError",
          "evalue": "cannot import name 'Instance' from 'capymoa.stream' (/usr/local/lib/python3.11/dist-packages/capymoa/stream/__init__.py)",
          "traceback": [
            "\u001b[0;31m---------------------------------------------------------------------------\u001b[0m",
            "\u001b[0;31mImportError\u001b[0m                               Traceback (most recent call last)",
            "\u001b[0;32m<ipython-input-32-1361414327>\u001b[0m in \u001b[0;36m<cell line: 0>\u001b[0;34m()\u001b[0m\n\u001b[1;32m      5\u001b[0m \u001b[0;32mfrom\u001b[0m \u001b[0mmath\u001b[0m \u001b[0;32mimport\u001b[0m \u001b[0msqrt\u001b[0m\u001b[0;34m\u001b[0m\u001b[0;34m\u001b[0m\u001b[0m\n\u001b[1;32m      6\u001b[0m \u001b[0;32mfrom\u001b[0m \u001b[0mcapymoa\u001b[0m\u001b[0;34m.\u001b[0m\u001b[0mregressor\u001b[0m \u001b[0;32mimport\u001b[0m \u001b[0mFIMTDD\u001b[0m\u001b[0;34m\u001b[0m\u001b[0;34m\u001b[0m\u001b[0m\n\u001b[0;32m----> 7\u001b[0;31m \u001b[0;32mfrom\u001b[0m \u001b[0mcapymoa\u001b[0m\u001b[0;34m.\u001b[0m\u001b[0mstream\u001b[0m \u001b[0;32mimport\u001b[0m \u001b[0mNumpyStream\u001b[0m\u001b[0;34m,\u001b[0m \u001b[0mInstance\u001b[0m\u001b[0;34m\u001b[0m\u001b[0;34m\u001b[0m\u001b[0m\n\u001b[0m",
            "\u001b[0;31mImportError\u001b[0m: cannot import name 'Instance' from 'capymoa.stream' (/usr/local/lib/python3.11/dist-packages/capymoa/stream/__init__.py)",
            "",
            "\u001b[0;31m---------------------------------------------------------------------------\u001b[0;32m\nNOTE: If your import is failing due to a missing package, you can\nmanually install dependencies using either !pip or !apt.\n\nTo view examples of installing some common dependencies, click the\n\"Open Examples\" button below.\n\u001b[0;31m---------------------------------------------------------------------------\u001b[0m\n"
          ],
          "errorDetails": {
            "actions": [
              {
                "action": "open_url",
                "actionText": "Open Examples",
                "url": "/notebooks/snippets/importing_libraries.ipynb"
              }
            ]
          }
        }
      ],
      "source": [
        "import pandas as pd\n",
        "import numpy as np\n",
        "from sklearn.preprocessing import OneHotEncoder\n",
        "from sklearn.metrics import mean_absolute_error, mean_squared_error\n",
        "from math import sqrt\n",
        "from capymoa.regressor import FIMTDD\n",
        "from capymoa.stream import NumpyStream"
      ]
    },
    {
      "cell_type": "code",
      "execution_count": 29,
      "id": "18c887fd",
      "metadata": {
        "id": "18c887fd"
      },
      "outputs": [],
      "source": [
        "# Load dataset\n",
        "df = pd.read_csv('/content/loader_f30avg_new.csv')\n",
        "df['datetime'] = pd.to_datetime(df['timestamp'])\n",
        "df['hour'] = df['datetime'].dt.hour\n",
        "df['station'] = df['stop'].astype(str)"
      ]
    },
    {
      "cell_type": "code",
      "execution_count": 30,
      "id": "09dbd956",
      "metadata": {
        "id": "09dbd956"
      },
      "outputs": [],
      "source": [
        "# Prepare features and target\n",
        "features = df[['hour', 'station']]\n",
        "target = df['f30avg']\n",
        "\n",
        "encoder = OneHotEncoder(sparse_output=False)\n",
        "X_encoded = encoder.fit_transform(features)\n",
        "\n",
        "X_array = X_encoded.astype(np.float32)\n",
        "y_array = target.to_numpy().astype(np.float32)\n",
        "\n",
        "stream = NumpyStream(X_array, y_array, dataset_name=\"TimeAware\")"
      ]
    },
    {
      "cell_type": "code",
      "execution_count": 36,
      "id": "0c578214",
      "metadata": {
        "colab": {
          "base_uri": "https://localhost:8080/"
        },
        "id": "0c578214",
        "outputId": "30716657-14d3-43b0-cc70-9a4b59a6d89d"
      },
      "outputs": [
        {
          "output_type": "stream",
          "name": "stdout",
          "text": [
            "Experiment 3 – MAE: 18.70, RMSE: 44.17\n"
          ]
        }
      ],
      "source": [
        "# Initialize model and delayed evaluation\n",
        "model = FIMTDD(stream.get_schema())\n",
        "true_vals, preds = [], []\n",
        "buf_X, buf_y = [], []\n",
        "\n",
        "while stream.has_more_instances():\n",
        "    inst = stream.next_instance()\n",
        "    y_i = inst.y_value\n",
        "\n",
        "    if len(buf_X) >= 6:\n",
        "        inst_pred = buf_X.pop(0)\n",
        "        pred = model.predict(inst_pred)\n",
        "        true_vals.append(buf_y.pop(0))\n",
        "        preds.append(pred)\n",
        "\n",
        "    model.train(inst)\n",
        "    buf_X.append(inst)\n",
        "    buf_y.append(y_i)"
      ]
    },
    {
      "cell_type": "code",
      "execution_count": 37,
      "id": "fe7550c2",
      "metadata": {
        "colab": {
          "base_uri": "https://localhost:8080/"
        },
        "id": "fe7550c2",
        "outputId": "1c998370-77b8-46b9-d140-7dbdd50b56df"
      },
      "outputs": [
        {
          "output_type": "stream",
          "name": "stdout",
          "text": [
            "Experiment 3 — MAE: 18.70, RMSE: 44.17\n"
          ]
        }
      ],
      "source": [
        "# Results\n",
        "mae = mean_absolute_error(true_vals, preds)\n",
        "rmse = sqrt(mean_squared_error(true_vals, preds))\n",
        "print(f\"Experiment 3 — MAE: {mae:.2f}, RMSE: {rmse:.2f}\")"
      ]
    }
  ],
  "metadata": {
    "colab": {
      "provenance": []
    },
    "language_info": {
      "name": "python"
    },
    "kernelspec": {
      "name": "python3",
      "display_name": "Python 3"
    }
  },
  "nbformat": 4,
  "nbformat_minor": 5
}