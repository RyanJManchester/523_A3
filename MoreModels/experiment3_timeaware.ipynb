{
 "cells": [
  {
   "cell_type": "markdown",
   "id": "de61c822",
   "metadata": {},
   "source": [
    "# Experiment 3: Time-Aware Baseline Model\n",
    "Using only hour of day and station ID."
   ]
  },
  {
   "cell_type": "code",
   "execution_count": null,
   "id": "b8e17f91",
   "metadata": {},
   "outputs": [],
   "source": [
    "import pandas as pd\n",
    "import numpy as np\n",
    "from sklearn.preprocessing import OneHotEncoder\n",
    "from sklearn.metrics import mean_absolute_error, mean_squared_error\n",
    "from math import sqrt\n",
    "from capymoa.models import FIMTDDRegressor\n",
    "from capymoa.stream import DataStream"
   ]
  },
  {
   "cell_type": "code",
   "execution_count": null,
   "id": "18c887fd",
   "metadata": {},
   "outputs": [],
   "source": [
    "# Load dataset\n",
    "df = pd.read_csv('MoreModels/loader_f30avg.csv')\n",
    "df['datetime'] = pd.to_datetime(df['timestamp'])\n",
    "df['hour'] = df['datetime'].dt.hour\n",
    "df['station'] = df['station_id'].astype(str)"
   ]
  },
  {
   "cell_type": "code",
   "execution_count": null,
   "id": "09dbd956",
   "metadata": {},
   "outputs": [],
   "source": [
    "# Prepare features and target\n",
    "features = df[['hour', 'station']]\n",
    "target = df['target']\n",
    "\n",
    "encoder = OneHotEncoder(sparse=False)\n",
    "X_encoded = encoder.fit_transform(features)\n",
    "\n",
    "X_array = X_encoded.astype(np.float32)\n",
    "y_array = target.to_numpy().astype(np.float32)\n",
    "\n",
    "stream = DataStream(X_array, y_array)"
   ]
  },
  {
   "cell_type": "code",
   "execution_count": null,
   "id": "0c578214",
   "metadata": {},
   "outputs": [],
   "source": [
    "# Initialize model and delayed evaluation\n",
    "model = FIMTDDRegressor()\n",
    "true_values = []\n",
    "predictions = []\n",
    "buffer_X = []\n",
    "buffer_y = []\n",
    "\n",
    "for x_i, y_i in stream:\n",
    "    if len(buffer_X) >= 6:\n",
    "        pred = model.predict([buffer_X.pop(0)])[0]\n",
    "        true = buffer_y.pop(0)\n",
    "        predictions.append(pred)\n",
    "        true_values.append(true)\n",
    "\n",
    "    model.partial_fit([x_i], [y_i])\n",
    "    buffer_X.append(x_i)\n",
    "    buffer_y.append(y_i)"
   ]
  },
  {
   "cell_type": "code",
   "execution_count": null,
   "id": "fe7550c2",
   "metadata": {},
   "outputs": [],
   "source": [
    "# Results\n",
    "mae = mean_absolute_error(true_values, predictions)\n",
    "rmse = sqrt(mean_squared_error(true_values, predictions))\n",
    "\n",
    "print(f\"MAE: {mae:.3f}\")\n",
    "print(f\"RMSE: {rmse:.3f}\")"
   ]
  }
 ],
 "metadata": {},
 "nbformat": 4,
 "nbformat_minor": 5
}