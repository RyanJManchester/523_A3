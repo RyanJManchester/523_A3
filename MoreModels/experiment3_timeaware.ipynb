{
  "cells": [
    {
      "cell_type": "markdown",
      "id": "de61c822",
      "metadata": {
        "id": "de61c822"
      },
      "source": [
        "# Experiment 3: Time-Aware Baseline Model\n",
        "Using only hour of day and station ID."
      ]
    },
    {
      "cell_type": "code",
      "source": [
        "!pip install capymoa"
      ],
      "metadata": {
        "id": "X-C9Na5HMVBW",
        "outputId": "9891cb9c-1a4e-4282-f09b-e5ded7d7ac31",
        "colab": {
          "base_uri": "https://localhost:8080/"
        }
      },
      "id": "X-C9Na5HMVBW",
      "execution_count": 2,
      "outputs": [
        {
          "output_type": "stream",
          "name": "stdout",
          "text": [
            "Collecting capymoa\n",
            "  Downloading capymoa-0.10.0-py3-none-any.whl.metadata (5.0 kB)\n",
            "Requirement already satisfied: click in /usr/local/lib/python3.11/dist-packages (from capymoa) (8.2.1)\n",
            "Collecting deprecated (from capymoa)\n",
            "  Downloading Deprecated-1.2.18-py2.py3-none-any.whl.metadata (5.7 kB)\n",
            "Collecting jpype1>=v1.5.1 (from capymoa)\n",
            "  Downloading jpype1-1.5.2-cp311-cp311-manylinux_2_17_x86_64.manylinux2014_x86_64.whl.metadata (4.9 kB)\n",
            "Requirement already satisfied: matplotlib in /usr/local/lib/python3.11/dist-packages (from capymoa) (3.10.0)\n",
            "Requirement already satisfied: numpy in /usr/local/lib/python3.11/dist-packages (from capymoa) (2.0.2)\n",
            "Requirement already satisfied: pandas in /usr/local/lib/python3.11/dist-packages (from capymoa) (2.2.2)\n",
            "Requirement already satisfied: pyarrow in /usr/local/lib/python3.11/dist-packages (from capymoa) (18.1.0)\n",
            "Requirement already satisfied: scikit-learn in /usr/local/lib/python3.11/dist-packages (from capymoa) (1.6.1)\n",
            "Requirement already satisfied: seaborn in /usr/local/lib/python3.11/dist-packages (from capymoa) (0.13.2)\n",
            "Requirement already satisfied: tqdm in /usr/local/lib/python3.11/dist-packages (from capymoa) (4.67.1)\n",
            "Collecting wget (from capymoa)\n",
            "  Downloading wget-3.2.zip (10 kB)\n",
            "  Preparing metadata (setup.py) ... \u001b[?25l\u001b[?25hdone\n",
            "Requirement already satisfied: packaging in /usr/local/lib/python3.11/dist-packages (from jpype1>=v1.5.1->capymoa) (24.2)\n",
            "Requirement already satisfied: wrapt<2,>=1.10 in /usr/local/lib/python3.11/dist-packages (from deprecated->capymoa) (1.17.2)\n",
            "Requirement already satisfied: contourpy>=1.0.1 in /usr/local/lib/python3.11/dist-packages (from matplotlib->capymoa) (1.3.2)\n",
            "Requirement already satisfied: cycler>=0.10 in /usr/local/lib/python3.11/dist-packages (from matplotlib->capymoa) (0.12.1)\n",
            "Requirement already satisfied: fonttools>=4.22.0 in /usr/local/lib/python3.11/dist-packages (from matplotlib->capymoa) (4.58.1)\n",
            "Requirement already satisfied: kiwisolver>=1.3.1 in /usr/local/lib/python3.11/dist-packages (from matplotlib->capymoa) (1.4.8)\n",
            "Requirement already satisfied: pillow>=8 in /usr/local/lib/python3.11/dist-packages (from matplotlib->capymoa) (11.2.1)\n",
            "Requirement already satisfied: pyparsing>=2.3.1 in /usr/local/lib/python3.11/dist-packages (from matplotlib->capymoa) (3.2.3)\n",
            "Requirement already satisfied: python-dateutil>=2.7 in /usr/local/lib/python3.11/dist-packages (from matplotlib->capymoa) (2.9.0.post0)\n",
            "Requirement already satisfied: pytz>=2020.1 in /usr/local/lib/python3.11/dist-packages (from pandas->capymoa) (2025.2)\n",
            "Requirement already satisfied: tzdata>=2022.7 in /usr/local/lib/python3.11/dist-packages (from pandas->capymoa) (2025.2)\n",
            "Requirement already satisfied: scipy>=1.6.0 in /usr/local/lib/python3.11/dist-packages (from scikit-learn->capymoa) (1.15.3)\n",
            "Requirement already satisfied: joblib>=1.2.0 in /usr/local/lib/python3.11/dist-packages (from scikit-learn->capymoa) (1.5.1)\n",
            "Requirement already satisfied: threadpoolctl>=3.1.0 in /usr/local/lib/python3.11/dist-packages (from scikit-learn->capymoa) (3.6.0)\n",
            "Requirement already satisfied: six>=1.5 in /usr/local/lib/python3.11/dist-packages (from python-dateutil>=2.7->matplotlib->capymoa) (1.17.0)\n",
            "Downloading capymoa-0.10.0-py3-none-any.whl (60.5 MB)\n",
            "\u001b[2K   \u001b[90m━━━━━━━━━━━━━━━━━━━━━━━━━━━━━━━━━━━━━━━━\u001b[0m \u001b[32m60.5/60.5 MB\u001b[0m \u001b[31m13.6 MB/s\u001b[0m eta \u001b[36m0:00:00\u001b[0m\n",
            "\u001b[?25hDownloading jpype1-1.5.2-cp311-cp311-manylinux_2_17_x86_64.manylinux2014_x86_64.whl (494 kB)\n",
            "\u001b[2K   \u001b[90m━━━━━━━━━━━━━━━━━━━━━━━━━━━━━━━━━━━━━━━━\u001b[0m \u001b[32m494.1/494.1 kB\u001b[0m \u001b[31m30.7 MB/s\u001b[0m eta \u001b[36m0:00:00\u001b[0m\n",
            "\u001b[?25hDownloading Deprecated-1.2.18-py2.py3-none-any.whl (10.0 kB)\n",
            "Building wheels for collected packages: wget\n",
            "  Building wheel for wget (setup.py) ... \u001b[?25l\u001b[?25hdone\n",
            "  Created wheel for wget: filename=wget-3.2-py3-none-any.whl size=9655 sha256=bb49c558e9a91aeaeb789c6b53d3ee421eda5795cffda58a4a12b7fdbe2185da\n",
            "  Stored in directory: /root/.cache/pip/wheels/40/b3/0f/a40dbd1c6861731779f62cc4babcb234387e11d697df70ee97\n",
            "Successfully built wget\n",
            "Installing collected packages: wget, jpype1, deprecated, capymoa\n",
            "Successfully installed capymoa-0.10.0 deprecated-1.2.18 jpype1-1.5.2 wget-3.2\n"
          ]
        }
      ]
    },
    {
      "cell_type": "code",
      "execution_count": 5,
      "id": "b8e17f91",
      "metadata": {
        "id": "b8e17f91"
      },
      "outputs": [],
      "source": [
        "import pandas as pd\n",
        "import numpy as np\n",
        "from sklearn.preprocessing import OneHotEncoder\n",
        "from sklearn.metrics import mean_absolute_error, mean_squared_error\n",
        "from math import sqrt\n",
        "from capymoa.regressor import FIMTDD\n",
        "from capymoa.stream import  Schema"
      ]
    },
    {
      "cell_type": "code",
      "execution_count": 9,
      "id": "18c887fd",
      "metadata": {
        "id": "18c887fd"
      },
      "outputs": [],
      "source": [
        "# Load dataset\n",
        "df = pd.read_csv('/content/loader_f30avg_new.csv')\n",
        "df['datetime'] = pd.to_datetime(df['timestamp'])\n",
        "df['hour'] = df['datetime'].dt.hour\n",
        "df['station'] = df['stop'].astype(str)"
      ]
    },
    {
      "cell_type": "code",
      "execution_count": 11,
      "id": "09dbd956",
      "metadata": {
        "id": "09dbd956",
        "outputId": "ce94a8fc-cbc8-4719-9bbe-4b436cb12204",
        "colab": {
          "base_uri": "https://localhost:8080/",
          "height": 211
        }
      },
      "outputs": [
        {
          "output_type": "error",
          "ename": "TypeError",
          "evalue": "OneHotEncoder.__init__() got an unexpected keyword argument 'sparse'",
          "traceback": [
            "\u001b[0;31m---------------------------------------------------------------------------\u001b[0m",
            "\u001b[0;31mTypeError\u001b[0m                                 Traceback (most recent call last)",
            "\u001b[0;32m<ipython-input-11-2506891898>\u001b[0m in \u001b[0;36m<cell line: 0>\u001b[0;34m()\u001b[0m\n\u001b[1;32m      3\u001b[0m \u001b[0mtarget\u001b[0m \u001b[0;34m=\u001b[0m \u001b[0mdf\u001b[0m\u001b[0;34m[\u001b[0m\u001b[0;34m'f30avg'\u001b[0m\u001b[0;34m]\u001b[0m\u001b[0;34m\u001b[0m\u001b[0;34m\u001b[0m\u001b[0m\n\u001b[1;32m      4\u001b[0m \u001b[0;34m\u001b[0m\u001b[0m\n\u001b[0;32m----> 5\u001b[0;31m \u001b[0mencoder\u001b[0m \u001b[0;34m=\u001b[0m \u001b[0mOneHotEncoder\u001b[0m\u001b[0;34m(\u001b[0m\u001b[0msparse\u001b[0m\u001b[0;34m=\u001b[0m\u001b[0;32mFalse\u001b[0m\u001b[0;34m)\u001b[0m\u001b[0;34m\u001b[0m\u001b[0;34m\u001b[0m\u001b[0m\n\u001b[0m\u001b[1;32m      6\u001b[0m \u001b[0mX_encoded\u001b[0m \u001b[0;34m=\u001b[0m \u001b[0mencoder\u001b[0m\u001b[0;34m.\u001b[0m\u001b[0mfit_transform\u001b[0m\u001b[0;34m(\u001b[0m\u001b[0mfeatures\u001b[0m\u001b[0;34m)\u001b[0m\u001b[0;34m\u001b[0m\u001b[0;34m\u001b[0m\u001b[0m\n\u001b[1;32m      7\u001b[0m \u001b[0;34m\u001b[0m\u001b[0m\n",
            "\u001b[0;31mTypeError\u001b[0m: OneHotEncoder.__init__() got an unexpected keyword argument 'sparse'"
          ]
        }
      ],
      "source": [
        "# Prepare features and target\n",
        "features = df[['hour', 'station']]\n",
        "target = df['f30avg']\n",
        "\n",
        "encoder = OneHotEncoder(sparse_output=False)\n",
        "X_encoded = encoder.fit_transform(features)\n",
        "\n",
        "X_array = X_encoded.astype(np.float32)\n",
        "y_array = target.to_numpy().astype(np.float32)\n",
        "\n",
        "stream = DataStream(X_array, y_array)"
      ]
    },
    {
      "cell_type": "code",
      "execution_count": null,
      "id": "0c578214",
      "metadata": {
        "id": "0c578214"
      },
      "outputs": [],
      "source": [
        "# Initialize model and delayed evaluation\n",
        "model = FIMTDD()\n",
        "true_values = []\n",
        "predictions = []\n",
        "buffer_X = []\n",
        "buffer_y = []\n",
        "\n",
        "for x_i, y_i in stream:\n",
        "    if len(buffer_X) >= 6:\n",
        "        pred = model.predict([buffer_X.pop(0)])[0]\n",
        "        true = buffer_y.pop(0)\n",
        "        predictions.append(pred)\n",
        "        true_values.append(true)\n",
        "\n",
        "    model.partial_fit([x_i], [y_i])\n",
        "    buffer_X.append(x_i)\n",
        "    buffer_y.append(y_i)"
      ]
    },
    {
      "cell_type": "code",
      "execution_count": null,
      "id": "fe7550c2",
      "metadata": {
        "id": "fe7550c2"
      },
      "outputs": [],
      "source": [
        "# Results\n",
        "mae = mean_absolute_error(true_values, predictions)\n",
        "rmse = sqrt(mean_squared_error(true_values, predictions))\n",
        "\n",
        "print(f\"MAE: {mae:.3f}\")\n",
        "print(f\"RMSE: {rmse:.3f}\")"
      ]
    }
  ],
  "metadata": {
    "colab": {
      "provenance": []
    },
    "language_info": {
      "name": "python"
    },
    "kernelspec": {
      "name": "python3",
      "display_name": "Python 3"
    }
  },
  "nbformat": 4,
  "nbformat_minor": 5
}